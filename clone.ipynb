{
 "cells": [
  {
   "cell_type": "markdown",
   "metadata": {},
   "source": [
    "# Read files \n"
   ]
  },
  {
   "cell_type": "code",
   "execution_count": 1,
   "metadata": {},
   "outputs": [
    {
     "data": {
      "text/plain": [
       "\"\\nimport csv\\nimport cv2\\nimport numpy as np\\nlines = []\\n\\n#csv_file = '../data/driving_log.csv'\\ncsv_file = '../data_2/driving_log.csv'\\n\\nwith open(csv_file ) as csvfile:\\n    reader = csv.reader(csvfile)\\n    for line in reader:\\n        lines.append(line)\\n\\nimages = []\\nmeasurements = []\\nfor line in lines:\\n    for i in range(3):#left center right camera\\n        source_path = line[0]\\n        filename = source_path.split('/')[-1]\\n        current_path = '../data_2/IMG/' + filename\\n        image = cv2.imread(current_path)\\n        images.append(image)\\n        measurement = float(line[3])\\n        measurements.append(measurement)\\n\\n#X_train = np.array(images)\\n#y_train = np.array(measurements)\\n\""
      ]
     },
     "execution_count": 1,
     "metadata": {},
     "output_type": "execute_result"
    }
   ],
   "source": [
    "'''\n",
    "import csv\n",
    "import cv2\n",
    "import numpy as np\n",
    "lines = []\n",
    "\n",
    "#csv_file = '../data/driving_log.csv'\n",
    "csv_file = '../data_2/driving_log.csv'\n",
    "\n",
    "with open(csv_file ) as csvfile:\n",
    "    reader = csv.reader(csvfile)\n",
    "    for line in reader:\n",
    "        lines.append(line)\n",
    "\n",
    "images = []\n",
    "measurements = []\n",
    "for line in lines:\n",
    "    for i in range(3):#left center right camera\n",
    "        source_path = line[0]\n",
    "        filename = source_path.split('/')[-1]\n",
    "        current_path = '../data_2/IMG/' + filename\n",
    "        image = cv2.imread(current_path)\n",
    "        images.append(image)\n",
    "        measurement = float(line[3])\n",
    "        measurements.append(measurement)\n",
    "\n",
    "#X_train = np.array(images)\n",
    "#y_train = np.array(measurements)\n",
    "'''"
   ]
  },
  {
   "cell_type": "markdown",
   "metadata": {},
   "source": [
    "# data augmentation"
   ]
  },
  {
   "cell_type": "code",
   "execution_count": 2,
   "metadata": {},
   "outputs": [],
   "source": [
    "def data_aug(image, measurement):\n",
    "    augmented_images = []\n",
    "    augmented_measurements = []\n",
    "    #for image, measurement in zip (images, measurements):\n",
    "    augmented_images.append(image)\n",
    "    augmented_measurements.append(measurement)\n",
    "    augmented_images.append(cv2.flip(image,1))\n",
    "    augmented_measurements.append(measurement*-1.0)\n",
    "    return augmented_images, augmented_measurements\n",
    "\n",
    "#X_train = np.array(augmented_images)\n",
    "#y_train = np.array(augmented_measurements)"
   ]
  },
  {
   "cell_type": "code",
   "execution_count": 12,
   "metadata": {},
   "outputs": [],
   "source": [
    "import os\n",
    "import csv\n",
    "import numpy as np\n",
    "\n",
    "\n",
    "samples = []\n",
    "csv_file = '../data_2/driving_log.csv'\n",
    "\n",
    "with open(csv_file) as csvfile:\n",
    "    reader = csv.reader(csvfile)\n",
    "    for line in reader:\n",
    "        samples.append(line)\n",
    "\n",
    "from sklearn.model_selection import train_test_split\n",
    "train_samples, validation_samples = train_test_split(samples, test_size=0.2)\n",
    "\n",
    "\n",
    "import sklearn\n",
    "import csv\n",
    "import cv2\n",
    "from random import shuffle\n",
    "\n",
    "#img_new_shape = (80,160,3)\n",
    "\n",
    "def generator(samples, batch_size=32):\n",
    "    num_samples = len(samples)\n",
    "    while 1: # Loop forever so the generator never terminates\n",
    "        shuffle(samples)\n",
    "        for offset in range(0, num_samples, batch_size):\n",
    "            batch_samples = samples[offset:offset+batch_size]\n",
    "\n",
    "            images = []\n",
    "            angles = []\n",
    "            for batch_sample in batch_samples:\n",
    "                name_c = '../data_2/IMG/'+batch_sample[0].split('/')[-1]#center\n",
    "                name_l = '../data_2/IMG/'+batch_sample[1].split('/')[-1]#left\n",
    "                name_r = '../data_2/IMG/'+batch_sample[2].split('/')[-1]#right\n",
    "                \n",
    "                center_image = cv2.imread(name_c)\n",
    "                left_image = cv2.imread(name_l)\n",
    "                right_image = cv2.imread(name_r)\n",
    "                 \n",
    "                #Reorder BGR to RGB\n",
    "                #CV2 import BGR but we infere the steering in RGB\n",
    "                center_image = center_image[:, :, (2, 1, 0)]                                \n",
    "                left_image = left_image[:, :, (2, 1, 0)]                                \n",
    "                right_image = right_image[:, :, (2, 1, 0)]                                \n",
    "                \n",
    "                \n",
    "                correction = 0.2 # this is a parameter to tune\n",
    "                center_angle = float(batch_sample[3])\n",
    "                left_angle = center_angle + correction\n",
    "                right_angle = center_angle - correction\n",
    "\n",
    "                aug_center_image  = []\n",
    "                aug_center_angle = []\n",
    "                aug_right_image  = []\n",
    "                aug_right_angle = []\n",
    "                aug_left_image  = []\n",
    "                aug_left_angle = []\n",
    "\n",
    "                \n",
    "                aug_center_image, aug_center_angle = data_aug(center_image, center_angle)\n",
    "                aug_right_image, aug_right_angle = data_aug(right_image, right_angle)\n",
    "                aug_left_image, aug_left_angle = data_aug(left_image, left_angle)\n",
    "                #aug_center_image = cv2.flip(center_image,1)\n",
    "                #aug_center_angle = center_angle*-1.0\n",
    "                \n",
    "                #images.append(center_image)\n",
    "                #angles.append(center_angle)\n",
    "                \n",
    "                #images.append(aug_center_image)\n",
    "                #angles.append(aug_center_angle)\n",
    "\n",
    "                \n",
    "                # add images and angles to data set\n",
    "                images.append(left_image)\n",
    "                images.append(cv2.flip(left_image,1))\n",
    "                \n",
    "                images.append( center_image)\n",
    "                images.append(cv2.flip(center_image,1))\n",
    "                \n",
    "                images.append(right_image)\n",
    "                images.append(cv2.flip(right_image,1))\n",
    "                \n",
    "                \n",
    "                angles.append(left_angle)\n",
    "                angles.append(left_angle*-1.0)\n",
    "                \n",
    "                angles.append( center_angle)\n",
    "                angles.append( center_angle*-1.0)\n",
    "                \n",
    "                angles.append(right_angle)\n",
    "                angles.append(right_angle*-1.0)\n",
    "                \n",
    "                #images.extend(aug_left_image, aug_center_image, aug_right_image)\n",
    "                #angles.extend(aug_left_angle, aug_center_angle, aug_right_angle)\n",
    "\n",
    "\n",
    "            # trim image to only see section with road\n",
    "            X_train = np.array(images)\n",
    "            y_train = np.array(angles)\n",
    "            yield sklearn.utils.shuffle(X_train, y_train)\n",
    "\n",
    "# compile and train the model using the generator function\n",
    "train_generator = generator(train_samples, batch_size=32)\n",
    "validation_generator = generator(validation_samples, batch_size=32)\n",
    "\n",
    "#X_train_shuffle = np.zeros(160*320*3*32)\n",
    "#y_train_shuffle = np.zeros(160*320*3*32)\n",
    "\n",
    "#X_train_shuffle, y_train_shuffle = train_generator\n",
    "\n",
    "#print (X_train_shuffle)"
   ]
  },
  {
   "cell_type": "markdown",
   "metadata": {},
   "source": [
    "# Generator"
   ]
  },
  {
   "cell_type": "code",
   "execution_count": 13,
   "metadata": {},
   "outputs": [
    {
     "data": {
      "text/plain": [
       "\"\\nimport os\\nimport csv\\nimport numpy as np\\n\\n\\nsamples = []\\ncsv_file = '../data_2/driving_log.csv'\\n\\nwith open(csv_file) as csvfile:\\n    reader = csv.reader(csvfile)\\n    for line in reader:\\n        samples.append(line)\\n\\nfrom sklearn.model_selection import train_test_split\\ntrain_samples, validation_samples = train_test_split(samples, test_size=0.2)\\n\\n\\nimport sklearn\\nimport csv\\nimport cv2\\nfrom random import shuffle\\n\\n#img_new_shape = (80,160,3)\\n\\ndef generator(samples, batch_size=32):\\n    num_samples = len(samples)\\n    while 1: # Loop forever so the generator never terminates\\n        shuffle(samples)\\n        for offset in range(0, num_samples, batch_size):\\n            batch_samples = samples[offset:offset+batch_size]\\n\\n            images = []\\n            angles = []\\n            for batch_sample in batch_samples:\\n                name = '../data_2/IMG/'+batch_sample[0].split('/')[-1]\\n                center_image = cv2.imread(name)\\n                \\n                #Reorder BGR to RGB\\n                #CV2 import BGR but we infere the steering in RGB\\n                center_image = center_image[:, :, (2, 1, 0)]\\n                \\n                #downsample the picture\\n                #input_shape=(160,320,3)\\n                #center_image = cv2.resize(center_image, img_new_shape)\\n                \\n                center_angle = float(batch_sample[3])\\n                #real batch_size = batch_size * 2\\n               # center_image, center_angle = data_aug(center_image, center_angle)\\n\\n            \\n                #aug_center_image = []\\n                #aug_center_angle = []\\n                #aug_center_image, aug_center_angle =  data_aug(center_image, center_angle)\\n                #print(aug_center_image)\\n                \\n                #images.append(center_image)\\n                #angles.append(center_angle)\\n                \\n                aug_center_image = cv2.flip(center_image,1)\\n                aug_center_angle = center_angle*-1.0\\n                \\n                images.append(center_image)\\n                angles.append(center_angle)\\n                \\n                images.append(aug_center_image)\\n                angles.append(aug_center_angle)\\n                \\n\\n            # trim image to only see section with road\\n            X_train = np.array(images)\\n            y_train = np.array(angles)\\n            yield sklearn.utils.shuffle(X_train, y_train)\\n\\n# compile and train the model using the generator function\\ntrain_generator = generator(train_samples, batch_size=32)\\nvalidation_generator = generator(validation_samples, batch_size=32)\\n\\n#X_train_shuffle = np.zeros(160*320*3*32)\\n#y_train_shuffle = np.zeros(160*320*3*32)\\n\\n#X_train_shuffle, y_train_shuffle = train_generator\\n\\n#print (X_train_shuffle)\\n\""
      ]
     },
     "execution_count": 13,
     "metadata": {},
     "output_type": "execute_result"
    }
   ],
   "source": [
    "'''\n",
    "import os\n",
    "import csv\n",
    "import numpy as np\n",
    "\n",
    "\n",
    "samples = []\n",
    "csv_file = '../data_2/driving_log.csv'\n",
    "\n",
    "with open(csv_file) as csvfile:\n",
    "    reader = csv.reader(csvfile)\n",
    "    for line in reader:\n",
    "        samples.append(line)\n",
    "\n",
    "from sklearn.model_selection import train_test_split\n",
    "train_samples, validation_samples = train_test_split(samples, test_size=0.2)\n",
    "\n",
    "\n",
    "import sklearn\n",
    "import csv\n",
    "import cv2\n",
    "from random import shuffle\n",
    "\n",
    "#img_new_shape = (80,160,3)\n",
    "\n",
    "def generator(samples, batch_size=32):\n",
    "    num_samples = len(samples)\n",
    "    while 1: # Loop forever so the generator never terminates\n",
    "        shuffle(samples)\n",
    "        for offset in range(0, num_samples, batch_size):\n",
    "            batch_samples = samples[offset:offset+batch_size]\n",
    "\n",
    "            images = []\n",
    "            angles = []\n",
    "            for batch_sample in batch_samples:\n",
    "                name = '../data_2/IMG/'+batch_sample[0].split('/')[-1]\n",
    "                center_image = cv2.imread(name)\n",
    "                \n",
    "                #Reorder BGR to RGB\n",
    "                #CV2 import BGR but we infere the steering in RGB\n",
    "                center_image = center_image[:, :, (2, 1, 0)]\n",
    "                \n",
    "                #downsample the picture\n",
    "                #input_shape=(160,320,3)\n",
    "                #center_image = cv2.resize(center_image, img_new_shape)\n",
    "                \n",
    "                center_angle = float(batch_sample[3])\n",
    "                #real batch_size = batch_size * 2\n",
    "               # center_image, center_angle = data_aug(center_image, center_angle)\n",
    "\n",
    "            \n",
    "                #aug_center_image = []\n",
    "                #aug_center_angle = []\n",
    "                #aug_center_image, aug_center_angle =  data_aug(center_image, center_angle)\n",
    "                #print(aug_center_image)\n",
    "                \n",
    "                #images.append(center_image)\n",
    "                #angles.append(center_angle)\n",
    "                \n",
    "                aug_center_image = cv2.flip(center_image,1)\n",
    "                aug_center_angle = center_angle*-1.0\n",
    "                \n",
    "                images.append(center_image)\n",
    "                angles.append(center_angle)\n",
    "                \n",
    "                images.append(aug_center_image)\n",
    "                angles.append(aug_center_angle)\n",
    "                \n",
    "\n",
    "            # trim image to only see section with road\n",
    "            X_train = np.array(images)\n",
    "            y_train = np.array(angles)\n",
    "            yield sklearn.utils.shuffle(X_train, y_train)\n",
    "\n",
    "# compile and train the model using the generator function\n",
    "train_generator = generator(train_samples, batch_size=32)\n",
    "validation_generator = generator(validation_samples, batch_size=32)\n",
    "\n",
    "#X_train_shuffle = np.zeros(160*320*3*32)\n",
    "#y_train_shuffle = np.zeros(160*320*3*32)\n",
    "\n",
    "#X_train_shuffle, y_train_shuffle = train_generator\n",
    "\n",
    "#print (X_train_shuffle)\n",
    "'''"
   ]
  },
  {
   "cell_type": "markdown",
   "metadata": {},
   "source": [
    "# data augmentation"
   ]
  },
  {
   "cell_type": "code",
   "execution_count": 14,
   "metadata": {},
   "outputs": [
    {
     "data": {
      "text/plain": [
       "'\\naugmented_images, augmented_measurements = [], []\\nfor image, measurement in zip (images, measurements):\\n    augmented_images.append(image)\\n    augmented_measurements.append(measurement)\\n    augmented_images.append(cv2.flip(image,1))\\n    augmented_measurements.append(measurement*-1.0)\\n\\nX_train = np.array(augmented_images)\\ny_train = np.array(augmented_measurements)\\n'"
      ]
     },
     "execution_count": 14,
     "metadata": {},
     "output_type": "execute_result"
    }
   ],
   "source": [
    "'''\n",
    "augmented_images, augmented_measurements = [], []\n",
    "for image, measurement in zip (images, measurements):\n",
    "    augmented_images.append(image)\n",
    "    augmented_measurements.append(measurement)\n",
    "    augmented_images.append(cv2.flip(image,1))\n",
    "    augmented_measurements.append(measurement*-1.0)\n",
    "\n",
    "X_train = np.array(augmented_images)\n",
    "y_train = np.array(augmented_measurements)\n",
    "'''"
   ]
  },
  {
   "cell_type": "markdown",
   "metadata": {},
   "source": [
    "# build model "
   ]
  },
  {
   "cell_type": "code",
   "execution_count": 15,
   "metadata": {},
   "outputs": [
    {
     "name": "stderr",
     "output_type": "stream",
     "text": [
      "/home/kslin/anaconda3/envs/carnd-term1/lib/python3.5/site-packages/ipykernel_launcher.py:10: UserWarning: Update your `Conv2D` call to the Keras 2 API: `Conv2D(24, (5, 5), strides=(2, 2), activation=\"relu\")`\n",
      "  # Remove the CWD from sys.path while we load stuff.\n",
      "/home/kslin/anaconda3/envs/carnd-term1/lib/python3.5/site-packages/ipykernel_launcher.py:12: UserWarning: Update your `Conv2D` call to the Keras 2 API: `Conv2D(36, (5, 5), strides=(2, 2), activation=\"relu\")`\n",
      "  if sys.path[0] == '':\n",
      "/home/kslin/anaconda3/envs/carnd-term1/lib/python3.5/site-packages/ipykernel_launcher.py:14: UserWarning: Update your `Conv2D` call to the Keras 2 API: `Conv2D(48, (5, 5), strides=(2, 2), activation=\"relu\")`\n",
      "  \n",
      "/home/kslin/anaconda3/envs/carnd-term1/lib/python3.5/site-packages/ipykernel_launcher.py:16: UserWarning: Update your `Conv2D` call to the Keras 2 API: `Conv2D(64, (3, 3), activation=\"relu\")`\n",
      "  app.launch_new_instance()\n",
      "/home/kslin/anaconda3/envs/carnd-term1/lib/python3.5/site-packages/ipykernel_launcher.py:17: UserWarning: Update your `Conv2D` call to the Keras 2 API: `Conv2D(64, (3, 3), activation=\"relu\")`\n",
      "/home/kslin/anaconda3/envs/carnd-term1/lib/python3.5/site-packages/ipykernel_launcher.py:30: UserWarning: The semantics of the Keras 2 argument  `steps_per_epoch` is not the same as the Keras 1 argument `samples_per_epoch`. `steps_per_epoch` is the number of batches to draw from the generator at each epoch. Update your method calls accordingly.\n",
      "/home/kslin/anaconda3/envs/carnd-term1/lib/python3.5/site-packages/ipykernel_launcher.py:30: UserWarning: Update your `fit_generator` call to the Keras 2 API: `fit_generator(<generator..., steps_per_epoch=40020, epochs=3, validation_steps=10008, validation_data=<generator...)`\n"
     ]
    },
    {
     "name": "stdout",
     "output_type": "stream",
     "text": [
      "Epoch 1/3\n",
      "40020/40020 [==============================] - 9613s - loss: 0.0021 - val_loss: 0.0215\n",
      "Epoch 2/3\n",
      "40020/40020 [==============================] - 9563s - loss: 2.5408e-04 - val_loss: 0.0211\n",
      "Epoch 3/3\n",
      "40020/40020 [==============================] - 9547s - loss: 1.7764e-04 - val_loss: 0.0211\n"
     ]
    }
   ],
   "source": [
    "import keras\n",
    "from keras.models import Sequential \n",
    "from keras.layers import Flatten, Dense, Lambda, Cropping2D\n",
    "from keras.layers.convolutional import Convolution2D\n",
    "from keras.layers.pooling import MaxPooling2D\n",
    "\n",
    "model = Sequential()\n",
    "model.add(Lambda(lambda x: x/ 255.0 - 0.5,  input_shape=(160,320,3)))\n",
    "model.add(Cropping2D(cropping=((70,25),(0,0))))\n",
    "model.add(Convolution2D(24,5,5, subsample=(2,2), activation='relu'))\n",
    "#model.add(MaxPooling2D())\n",
    "model.add(Convolution2D(36,5,5, subsample=(2,2), activation='relu'))\n",
    "#model.add(Convolution2D(6,5,5,activation='relu'))\n",
    "model.add(Convolution2D(48,5,5, subsample=(2,2), activation='relu'))\n",
    "#model.add(MaxPooling2D())\n",
    "model.add(Convolution2D(64,3,3, activation='relu'))\n",
    "model.add(Convolution2D(64,3,3, activation='relu'))\n",
    "model.add(Flatten())\n",
    "model.add(Dense(100))\n",
    "model.add(Dense(50))\n",
    "model.add(Dense(1))\n",
    "          \n",
    "model.compile(loss='mse', optimizer='adam')\n",
    "#model.fit(X_train, y_train, validation_split = 0.2, shuffle=True, nb_epoch=5)\n",
    "\n",
    "\n",
    "history_object = model.fit_generator(train_generator, samples_per_epoch= 6*len(train_samples), \n",
    "                    validation_data=validation_generator, \n",
    "                    nb_val_samples=6*len(validation_samples), \n",
    "                    nb_epoch=3)\n",
    "\n",
    "\n",
    "model.save('model.h5')          "
   ]
  },
  {
   "cell_type": "markdown",
   "metadata": {},
   "source": [
    "   # plot MSE loss"
   ]
  },
  {
   "cell_type": "code",
   "execution_count": null,
   "metadata": {},
   "outputs": [],
   "source": [
    "import matplotlib.pyplot as plt\n",
    "\n",
    "#history_object = model.fit_generator(train_generator, samples_per_epoch =\n",
    "#    len(train_samples), validation_data = \n",
    "#    validation_generator,\n",
    "#    nb_val_samples = len(validation_samples), \n",
    "#    nb_epoch=5, verbose=1)\n",
    "\n",
    "### print the keys contained in the history object\n",
    "print(history_object.history.keys())\n",
    "\n",
    "### plot the training and validation loss for each epoch\n",
    "plt.plot(history_object.history['loss'])\n",
    "plt.plot(history_object.history['val_loss'])\n",
    "plt.title('model mean squared error loss')\n",
    "plt.ylabel('mean squared error loss')\n",
    "plt.xlabel('epoch')\n",
    "plt.legend(['training set', 'validation set'], loc='upper right')\n",
    "plt.show()"
   ]
  },
  {
   "cell_type": "code",
   "execution_count": null,
   "metadata": {},
   "outputs": [],
   "source": []
  },
  {
   "cell_type": "code",
   "execution_count": null,
   "metadata": {},
   "outputs": [],
   "source": []
  }
 ],
 "metadata": {
  "kernelspec": {
   "display_name": "Python 3",
   "language": "python",
   "name": "python3"
  },
  "language_info": {
   "codemirror_mode": {
    "name": "ipython",
    "version": 3
   },
   "file_extension": ".py",
   "mimetype": "text/x-python",
   "name": "python",
   "nbconvert_exporter": "python",
   "pygments_lexer": "ipython3",
   "version": "3.5.2"
  },
  "widgets": {
   "state": {},
   "version": "1.1.2"
  }
 },
 "nbformat": 4,
 "nbformat_minor": 2
}
